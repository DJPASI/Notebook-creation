{
 "cells": [
  {
   "cell_type": "markdown",
   "id": "45b92d30-692e-4046-ab1e-88fada958fcc",
   "metadata": {},
   "source": [
    "# Data Science Tools and Ecosystem"
   ]
  },
  {
   "cell_type": "markdown",
   "id": "b00a4bcf-1e30-4d9a-bdba-99da445dca61",
   "metadata": {},
   "source": [
    "## In this notebook, Data Science Tools and Ecosystem are summarized."
   ]
  },
  {
   "cell_type": "markdown",
   "id": "a587b1af-811f-4c30-b693-36cf4ca10bd4",
   "metadata": {},
   "source": [
    "**Objectives**"
   ]
  },
  {
   "cell_type": "markdown",
   "id": "1605ffd4-e166-45de-a39a-7954793982c9",
   "metadata": {},
   "source": [
    "- Some of the popular languages that Data Scientists\n",
    "- \n",
    "Some of the commonly used libraries used by Data Scientist\n",
    "- Few w examples of evaluating arithmetic expressions in Python\r\n"
   ]
  },
  {
   "cell_type": "markdown",
   "id": "40bc5449-561a-4751-8259-10c27bde7185",
   "metadata": {},
   "source": [
    "## Some of the popular languages that Data Scientists use are:\n"
   ]
  },
  {
   "cell_type": "markdown",
   "id": "d108f51b-3560-4d1b-96ec-44aa853e6769",
   "metadata": {},
   "source": [
    "1. English\n",
    "2. Spanish\n",
    "3. Italian"
   ]
  },
  {
   "cell_type": "markdown",
   "id": "579928fc-98bc-4b38-953d-706ff4373f3f",
   "metadata": {},
   "source": [
    "## Some of the commonly used libraries used by Data Scientists include:"
   ]
  },
  {
   "cell_type": "markdown",
   "id": "c306d0ca-0b94-45ec-b32e-74b066bc5178",
   "metadata": {},
   "source": [
    "1. Pandas\n",
    "2. Numpy\n",
    "3. Matplotlib\n",
    "4. Seaborn\n",
    "5. Scikit-learn\n",
    "6. Keras"
   ]
  },
  {
   "cell_type": "markdown",
   "id": "ee74da73-42fa-4b47-a47e-0b0369b59e9f",
   "metadata": {},
   "source": [
    "|Data Science Tools|\n",
    "|------------------|\n",
    "|Jupyter notebook|\n",
    "|R studio|\n",
    "|Apache Zeppelin|"
   ]
  },
  {
   "cell_type": "markdown",
   "id": "fe6ec070-7e0c-459f-aebb-42715da9bda8",
   "metadata": {},
   "source": [
    "### Below are a few examples of evaluating arithmetic expressions in Python"
   ]
  },
  {
   "cell_type": "code",
   "execution_count": 22,
   "id": "d6ee82af-4568-45eb-9e15-f404a5d34e3b",
   "metadata": {},
   "outputs": [
    {
     "data": {
      "text/plain": [
       "17"
      ]
     },
     "execution_count": 22,
     "metadata": {},
     "output_type": "execute_result"
    }
   ],
   "source": [
    "#  This a simple arithmetic expression to mutiply then add integers\n",
    "(3*4)+5"
   ]
  },
  {
   "cell_type": "code",
   "execution_count": 24,
   "id": "88434490-8574-4390-b725-2f1555ddf88b",
   "metadata": {},
   "outputs": [
    {
     "data": {
      "text/plain": [
       "3.3333333333333335"
      ]
     },
     "execution_count": 24,
     "metadata": {},
     "output_type": "execute_result"
    }
   ],
   "source": [
    "# This will convert 200 minutes to hours by diving by 60\n",
    "200/60"
   ]
  },
  {
   "cell_type": "markdown",
   "id": "78921975-ad42-4d8a-90d9-045d9c5042c3",
   "metadata": {},
   "source": [
    "## Author\n",
    "Djamila Pasi"
   ]
  },
  {
   "cell_type": "code",
   "execution_count": null,
   "id": "11be0e83-64c9-4f75-b1f9-49c3feda3aac",
   "metadata": {},
   "outputs": [],
   "source": []
  }
 ],
 "metadata": {
  "kernelspec": {
   "display_name": "anaconda-panel-2023.05-py310",
   "language": "python",
   "name": "conda-env-anaconda-panel-2023.05-py310-py"
  },
  "language_info": {
   "codemirror_mode": {
    "name": "ipython",
    "version": 3
   },
   "file_extension": ".py",
   "mimetype": "text/x-python",
   "name": "python",
   "nbconvert_exporter": "python",
   "pygments_lexer": "ipython3",
   "version": "3.11.5"
  }
 },
 "nbformat": 4,
 "nbformat_minor": 5
}
